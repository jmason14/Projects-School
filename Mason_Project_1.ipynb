{
 "cells": [
  {
   "cell_type": "markdown",
   "metadata": {},
   "source": [
    "Jonathan Mason\n",
    "<br>\n",
    "<br>\n",
    "__PRIME NUMBERS__"
   ]
  },
  {
   "cell_type": "markdown",
   "metadata": {},
   "source": [
    "A prime number is defined as a natural number greater than one that cannot be formed by multiplying two smaller natural numbers. Otherwise, the number is composite. For example, three is a prime number because the only ways of writing it as a product are $1*3$ or $3*1$, both of which involve 3 itself. On the other hand, four is a composite number because it is a product of $2*2$, $4*1$ and $1*4$. This section will consist of a breakdown of prime numbers and their most interesting properties. _Part 1.1_ of this section features a code that can take a given integer, n, and conclude whether or not that integer and all integers smaller than it are prime. The parts after follow a similar model, and as more helpful functions are created more can be achieved. Conversly, each function defined must be precise, or else python will reject it. The first function, \"CheckPrime(n)\" makes use of trial division. Trial division is an algorithm that tests if n is a multiple of any integer between $2$ or $\\sqrt{n}$.\n",
    "<br>\n",
    "<br>\n",
    "__Part 1__\n",
    "<br>\n",
    "<br>\n",
    "_Part 1.1_"
   ]
  },
  {
   "cell_type": "code",
   "execution_count": 8,
   "metadata": {},
   "outputs": [],
   "source": [
    "def CheckPrime(n):\n",
    "    \"\"\"\n",
    "    Function checks if a given number is a prime number using the divisor test.\n",
    "    inputs:\n",
    "    n - number to be checked. Must be an integer\n",
    "    output:\n",
    "    True - the number is a prime\n",
    "    False - the number is not a prime\n",
    "    \n",
    "    \"\"\"\n",
    "    import math\n",
    "    \n",
    "    if (n<2): # 1 and 2 are not prime\n",
    "        return False\n",
    "    \n",
    "    for i in range(2, int(math.sqrt(n) + 1)): # Trial Division\n",
    "        if n%i == 0:\n",
    "            return False\n",
    "    return True\n",
    "    \n",
    "def listPrimes(n):\n",
    "    \"\"\"\n",
    "    Function uses CheckPrime(n) to distinguish primes numbers from composite numbers, then compiles the primes onto a list.\n",
    "    inputs:\n",
    "    n\n",
    "    output:\n",
    "    All prime numbers smaller than n\n",
    "    \"\"\"\n",
    "    primes = [] # Start with an empty list that will be added to later\n",
    "    i = 2\n",
    "    while i <= n: # While loop to add to as well as control length of the list\n",
    "        if CheckPrime(i): # Using check function\n",
    "            primes.append(i) # Adding prime numbers between 2 and n to list\n",
    "        i += 1\n",
    "    return primes # Return our output...Will be in the form of a list\n"
   ]
  },
  {
   "cell_type": "code",
   "execution_count": 11,
   "metadata": {},
   "outputs": [
    {
     "data": {
      "text/plain": [
       "[2, 3, 5, 7, 11, 13, 17, 19, 23, 29, 31, 37, 41, 43, 47, 53, 59, 61, 67, 71, 73, 79, 83, 89, 97, 101, 103, 107, 109, 113, 127, 131, 137, 139, 149, 151, 157, 163, 167, 173, 179, 181, 191, 193, 197, 199, 211, 223, 227, 229, 233, 239, 241, 251, 257, 263, 269, 271, 277, 281, 283, 293, 307, 311, 313]"
      ]
     },
     "execution_count": 11,
     "metadata": {},
     "output_type": "execute_result"
    }
   ],
   "source": [
    "listPrimes(313)"
   ]
  },
  {
   "cell_type": "code",
   "execution_count": 12,
   "metadata": {},
   "outputs": [
    {
     "data": {
      "text/plain": [
       "[2, 3, 5, 7, 11, 13, 17, 19, 23, 29, 31, 37, 41, 43, 47, 53, 59, 61, 67, 71, 73, 79, 83, 89, 97, 101, 103, 107, 109, 113, 127, 131, 137, 139, 149, 151, 157]"
      ]
     },
     "execution_count": 12,
     "metadata": {},
     "output_type": "execute_result"
    }
   ],
   "source": [
    "listPrimes(157)"
   ]
  },
  {
   "cell_type": "markdown",
   "metadata": {},
   "source": [
    "The code is working well. The function created takes integer, $n$, and returns an output of all prime numbers less than or equal to $n$ in the form of a list. The code has protection against invalid arguments, as a non-integer or negative number will result in an empty set of brackets."
   ]
  },
  {
   "cell_type": "markdown",
   "metadata": {},
   "source": [
    "_Part 1.2_"
   ]
  },
  {
   "cell_type": "markdown",
   "metadata": {},
   "source": [
    "The next function can receive $n$ as an input and return the first $n$ prime numbers as a list. The CheckPrime(n) function will continue to weed out the prime numbers, and a while loop will add these prime numbers to a list. The only new operator here is the \"len()\" function. This function is used as a counter to the while loop, stopping production of prime numbers after the list is of size $n$."
   ]
  },
  {
   "cell_type": "code",
   "execution_count": 13,
   "metadata": {},
   "outputs": [],
   "source": [
    "def nPrimes(n):\n",
    "    \"\"\"\n",
    "    Function uses CheckPrime(n) to distinguish prime numbers from composites, then lists out the first \"n\" prime numbers.\n",
    "    input:\n",
    "    n\n",
    "    output:\n",
    "    The first \"n\" primes numbers\n",
    "    \"\"\"\n",
    "    primes = []\n",
    "    i = 2\n",
    "    while len(primes) < n: # To control the length of the list\n",
    "        if CheckPrime(i):\n",
    "            primes.append(i)\n",
    "        i += 1\n",
    "    return primes"
   ]
  },
  {
   "cell_type": "code",
   "execution_count": 14,
   "metadata": {},
   "outputs": [
    {
     "data": {
      "text/plain": [
       "[2, 3, 5, 7, 11, 13, 17, 19, 23, 29, 31, 37, 41, 43, 47, 53, 59, 61, 67, 71, 73, 79, 83, 89, 97]"
      ]
     },
     "execution_count": 14,
     "metadata": {},
     "output_type": "execute_result"
    }
   ],
   "source": [
    "nPrimes(25)"
   ]
  },
  {
   "cell_type": "code",
   "execution_count": 15,
   "metadata": {},
   "outputs": [
    {
     "data": {
      "text/plain": [
       "[2, 3, 5, 7, 11, 13, 17, 19, 23, 29, 31, 37, 41, 43, 47, 53, 59, 61, 67, 71, 73, 79, 83, 89, 97, 101, 103, 107, 109, 113, 127, 131, 137, 139, 149, 151, 157, 163, 167, 173, 179, 181, 191, 193, 197, 199, 211, 223, 227, 229, 233, 239, 241, 251, 257, 263, 269, 271, 277, 281, 283, 293, 307, 311, 313, 317, 331, 337, 347, 349, 353, 359]"
      ]
     },
     "execution_count": 15,
     "metadata": {},
     "output_type": "execute_result"
    }
   ],
   "source": [
    "nPrimes(72)"
   ]
  },
  {
   "cell_type": "markdown",
   "metadata": {},
   "source": [
    "The function is working swimmingly. It is returning the first $n$ prime numbers just as it was programmed to do!"
   ]
  },
  {
   "cell_type": "markdown",
   "metadata": {},
   "source": [
    "<br>\n",
    "<br>\n",
    "__Part 2__"
   ]
  },
  {
   "cell_type": "markdown",
   "metadata": {},
   "source": [
    "What are other interesting properties of prime numbers? For one, prime numbers also serve as multiples to composite numbers. Recall that $4$ is a composite number, as it can be written as a product with two numbers less than itself ($2*2$, $4*1$ and $1*4$). Notice that $2$ is a prime number because it can only be written using one and itself, $2*1$ or $1*2$. The code in _Part 2_ will make a point in finding these prime numbers that are products of composite numbers, which are referred to as prime divisors."
   ]
  },
  {
   "cell_type": "code",
   "execution_count": 16,
   "metadata": {},
   "outputs": [],
   "source": [
    "def primeDivisors(n):\n",
    "    \"\"\"\n",
    "    Function returns all prime divisors of given n in the form of a list.\n",
    "    inputs:\n",
    "    n, must be an integer\n",
    "    outputs:\n",
    "    All prime divisors of n\n",
    "    \"\"\"\n",
    "    i = 2\n",
    "    divisors = [] # List\n",
    "    while i * i <= n:\n",
    "        if n % i: # Check if there is a remainder\n",
    "            i += 1 # Increase i by 1 as loop continues\n",
    "        else:\n",
    "            n //= i # Check if prime is a divisor\n",
    "            divisors.append(i) # Add to list\n",
    "    if n > 1:\n",
    "        divisors.append(n)\n",
    "    return divisors"
   ]
  },
  {
   "cell_type": "code",
   "execution_count": 17,
   "metadata": {},
   "outputs": [
    {
     "data": {
      "text/plain": [
       "[3, 3, 5, 5]"
      ]
     },
     "execution_count": 17,
     "metadata": {},
     "output_type": "execute_result"
    }
   ],
   "source": [
    "primeDivisors(225)"
   ]
  },
  {
   "cell_type": "code",
   "execution_count": 18,
   "metadata": {},
   "outputs": [
    {
     "data": {
      "text/plain": [
       "[37, 41]"
      ]
     },
     "execution_count": 18,
     "metadata": {},
     "output_type": "execute_result"
    }
   ],
   "source": [
    "primeDivisors(1517)"
   ]
  },
  {
   "cell_type": "markdown",
   "metadata": {},
   "source": [
    "<br>\n",
    "<br>\n",
    "__Part 2 - Bonus__"
   ]
  },
  {
   "cell_type": "markdown",
   "metadata": {},
   "source": [
    "More complex that prime divisors are _unique_ prime divisors. The last function effectively provided all prime divisors of n, however, many numbers are repeated. The primeDivisorsUnique(n) function aims to elimate that problem. This function will find each prime divisor and list it once. Then another list side by side the first, will contain the frequency of each prime divisor in respective order."
   ]
  },
  {
   "cell_type": "code",
   "execution_count": 19,
   "metadata": {},
   "outputs": [],
   "source": [
    "def primeDivisorsUnique(n):\n",
    "    \"\"\"\n",
    "    Function accepts an integer 'n' and returns two lists. One containing the unique prime divisors, and the other lists the frequency of each unique prime divisor, respectively.\n",
    "    input:\n",
    "    n\n",
    "    outputs:\n",
    "    [[Prime divisor 1, Prime divisor 2], [Frequency divisor 1, Frequency divisor 2]]\n",
    "    \"\"\"\n",
    "    numberCopy = n;\n",
    "    i = 1\n",
    "    primes = [] # Will be the list containing unique prime divisors\n",
    "    while(i<=n):\n",
    "        k = 0\n",
    "        if(n%i == 0):\n",
    "            j = 1\n",
    "            while(j<=i):\n",
    "                if(i%j == 0):\n",
    "                    k = k + 1\n",
    "                j = j + 1\n",
    "            if (k == 2):\n",
    "                primes.append(i)\n",
    "        i = i + 1\n",
    "    nPrimes = [] # Will be the list indicating frequency of unique prime divisor in prime decompisition\n",
    "    \n",
    "    for number in primes: # For every number added to the unique prime divisors list\n",
    "        count = 0; # Initialize a counting variable\n",
    "        while numberCopy % number == 0:\n",
    "            count = count + 1; # Increase count\n",
    "            numberCopy = numberCopy/number\n",
    "        nPrimes.append(count);\n",
    "    return [primes, nPrimes] # Two side by side lists"
   ]
  },
  {
   "cell_type": "code",
   "execution_count": 20,
   "metadata": {},
   "outputs": [
    {
     "data": {
      "text/plain": [
       "[[2, 3], [1, 2]]"
      ]
     },
     "execution_count": 20,
     "metadata": {},
     "output_type": "execute_result"
    }
   ],
   "source": [
    "primeDivisorsUnique(18)"
   ]
  },
  {
   "cell_type": "markdown",
   "metadata": {},
   "source": [
    "We can see that the primeDivisorsUnique(n) function has done its job. 2 and 3 are unique prime divisors of 18, and they appear once and twice, respectively. (18 = 2 x 3 x 3). More examples below show that the function is working smoothly."
   ]
  },
  {
   "cell_type": "code",
   "execution_count": 21,
   "metadata": {},
   "outputs": [
    {
     "data": {
      "text/plain": [
       "[[3, 59], [1, 1]]"
      ]
     },
     "execution_count": 21,
     "metadata": {},
     "output_type": "execute_result"
    }
   ],
   "source": [
    "primeDivisorsUnique(177)"
   ]
  },
  {
   "cell_type": "code",
   "execution_count": 22,
   "metadata": {},
   "outputs": [
    {
     "data": {
      "text/plain": [
       "[[3, 5, 7], [1, 2, 1]]"
      ]
     },
     "execution_count": 22,
     "metadata": {},
     "output_type": "execute_result"
    }
   ],
   "source": [
    "primeDivisorsUnique(525)"
   ]
  },
  {
   "cell_type": "markdown",
   "metadata": {},
   "source": [
    "<br>\n",
    "<br>\n",
    "__Part 3__"
   ]
  },
  {
   "cell_type": "markdown",
   "metadata": {},
   "source": [
    "Prime Numbers are related to congruence. Fermat's Little Theorum states that if $p$ is a prime number, then for any integer $a$, the number $a^p - a$ is an integer multiple of p. The numbers that result from this process are known as prime-like numbers. Fermat's Little Theorum is widely used, notably as a feature of the Miller-Rabin primality test.\n",
    "<br>\n",
    "<br>\n",
    "_Part 3.1_"
   ]
  },
  {
   "cell_type": "code",
   "execution_count": 23,
   "metadata": {},
   "outputs": [],
   "source": [
    "def CongruCheck(n): # Fermat's Little Theorum\n",
    "    \"\"\"\n",
    "    Function checks if input is a prime-like number.\n",
    "    inputs:\n",
    "    n - must be an integer\n",
    "    outputs:\n",
    "    True = prime-like\n",
    "    False = composite\n",
    "    \"\"\"\n",
    "    return pow(2, n-1, n) == 1"
   ]
  },
  {
   "cell_type": "markdown",
   "metadata": {},
   "source": [
    "To check if Fermat's Little Theorum has be written as code correctly, below are a few examples of checks on prime and composite numbers. The function CongruCheck(n) will return \"True\" if the given $n$ is prime-like. Conversely, the function will return \"False\" if the given $n$ is composite. Then, compare the CheckPrime(n) function written earlier and if its output is similar."
   ]
  },
  {
   "cell_type": "code",
   "execution_count": 24,
   "metadata": {},
   "outputs": [
    {
     "data": {
      "text/plain": [
       "True"
      ]
     },
     "execution_count": 24,
     "metadata": {},
     "output_type": "execute_result"
    }
   ],
   "source": [
    "CongruCheck(17)"
   ]
  },
  {
   "cell_type": "code",
   "execution_count": 25,
   "metadata": {},
   "outputs": [
    {
     "data": {
      "text/plain": [
       "False"
      ]
     },
     "execution_count": 25,
     "metadata": {},
     "output_type": "execute_result"
    }
   ],
   "source": [
    "CongruCheck(21)"
   ]
  },
  {
   "cell_type": "code",
   "execution_count": 26,
   "metadata": {},
   "outputs": [
    {
     "data": {
      "text/plain": [
       "False"
      ]
     },
     "execution_count": 26,
     "metadata": {},
     "output_type": "execute_result"
    }
   ],
   "source": [
    "CheckPrime(21)"
   ]
  },
  {
   "cell_type": "markdown",
   "metadata": {},
   "source": [
    "The CongruCheck(n) function is working smoothly and agrees with the CheckPrime(n) function created earlier. Now to use the CongruCheck(n) function to create a list of prime-like numbers."
   ]
  },
  {
   "cell_type": "code",
   "execution_count": 27,
   "metadata": {},
   "outputs": [],
   "source": [
    "def listPrimeLike(n):\n",
    "    \"\"\"\n",
    "    Function lists out prime-like numbers less than 'n' using CongruCheck(n).\n",
    "    input:\n",
    "    n - must be an integer\n",
    "    output:\n",
    "    list of prime-like numbers < n\n",
    "    \"\"\"\n",
    "    likeprimes = []\n",
    "    i = 2 # Manually tell code 0 and 1 are not prime-like\n",
    "    while i <= n: # Loop serving to find prime-likes and create list\n",
    "        if CongruCheck(n): # Check if number passes congruence relation test\n",
    "            likeprimes.append(i) # Add to list\n",
    "        i += 1\n",
    "    return likeprimes"
   ]
  },
  {
   "cell_type": "code",
   "execution_count": 28,
   "metadata": {},
   "outputs": [
    {
     "data": {
      "text/plain": [
       "[2, 3]"
      ]
     },
     "execution_count": 28,
     "metadata": {},
     "output_type": "execute_result"
    }
   ],
   "source": [
    "listPrimeLike(3)"
   ]
  },
  {
   "cell_type": "markdown",
   "metadata": {},
   "source": [
    "The function successfully returns a list of prime-like numbers less than 'n' using the previously created CongruCheck(n) function. It can be seen how similar listPrimeLike(n) is to listPrimes(n) that was created in _Part 1_. Upcoming, _Part 3.2_ will also draw similarities to _Part 1.2_."
   ]
  },
  {
   "cell_type": "markdown",
   "metadata": {},
   "source": [
    "<br>\n",
    "_Part 3.2_\n",
    "<br>\n",
    "<br>\n",
    "The next function will again utilize the CongruCheck(n) function. This time nPrimeLike(n) will receive an input $n$ and produce an output of the first $n$ prime-like numbers in the form of a list length $n$. "
   ]
  },
  {
   "cell_type": "code",
   "execution_count": 29,
   "metadata": {},
   "outputs": [],
   "source": [
    "def nPrimeLike(n):\n",
    "    \"\"\"\n",
    "    Function lists out the first 'n' prime-like numbers.\n",
    "    input:\n",
    "    n - must be an integer\n",
    "    output:\n",
    "    list of sequential prime-likes with length 'n'\n",
    "    \"\"\"\n",
    "    nprimes = []\n",
    "    i = 2 # Manually disregard 0 and 1, which aren't prime\n",
    "    while len(nprimes) < n: # To control the length of the list\n",
    "        if CongruCheck(i): # If given 'n' is prime-like\n",
    "            nprimes.append(i) # Will be added to list\n",
    "        i += 1 # Continue the loop increasing i by 1\n",
    "    return nprimes # Return output in form of a list"
   ]
  },
  {
   "cell_type": "code",
   "execution_count": 30,
   "metadata": {},
   "outputs": [
    {
     "data": {
      "text/plain": [
       "[3, 5, 7, 11, 13]"
      ]
     },
     "execution_count": 30,
     "metadata": {},
     "output_type": "execute_result"
    }
   ],
   "source": [
    "nPrimeLike(5)"
   ]
  },
  {
   "cell_type": "code",
   "execution_count": 31,
   "metadata": {},
   "outputs": [
    {
     "data": {
      "text/plain": [
       "[3, 5, 7, 11, 13, 17, 19, 23, 29, 31, 37, 41, 43, 47, 53, 59, 61, 67, 71, 73, 79, 83, 89, 97, 101, 103, 107, 109, 113, 127, 131, 137, 139, 149, 151, 157, 163, 167, 173, 179, 181, 191, 193, 197, 199, 211, 223, 227, 229, 233, 239, 241, 251, 257, 263, 269, 271, 277, 281, 283, 293, 307, 311, 313, 317, 331, 337, 341, 347, 349, 353, 359, 367]"
      ]
     },
     "execution_count": 31,
     "metadata": {},
     "output_type": "execute_result"
    }
   ],
   "source": [
    "nPrimeLike(73)"
   ]
  },
  {
   "cell_type": "markdown",
   "metadata": {},
   "source": [
    "<br>\n",
    "<br>\n",
    "_Part 3.3_\n",
    "<br>\n",
    "<br>\n",
    "As $n$ grows, eventually $n$ will be large enough that congruence relation will not recognize that the number is actually a composite. A Carmichael number is defined as a composite number $n$ which satisfies the modular arithmetic congruence relation. The first Carmichael number is 561."
   ]
  },
  {
   "cell_type": "code",
   "execution_count": 32,
   "metadata": {},
   "outputs": [
    {
     "data": {
      "text/plain": [
       "True"
      ]
     },
     "execution_count": 32,
     "metadata": {},
     "output_type": "execute_result"
    }
   ],
   "source": [
    "CongruCheck(561)"
   ]
  },
  {
   "cell_type": "markdown",
   "metadata": {},
   "source": [
    "Notice how the CongruCheck function concludes that $561$ is prime-like. In fact, $561$ is composite because $561 = 3*11*17$. Similarly, $1105$ is a Carmichael number ($5*13*17$). Both $561$ and $1105$ can be seen on the list created by the function nPrimeLike(n) below. Their are multiple Carmichael numbers beyond $1105$ that have been found over the years by various mathematicians."
   ]
  },
  {
   "cell_type": "code",
   "execution_count": 33,
   "metadata": {},
   "outputs": [
    {
     "data": {
      "text/plain": [
       "[3, 5, 7, 11, 13, 17, 19, 23, 29, 31, 37, 41, 43, 47, 53, 59, 61, 67, 71, 73, 79, 83, 89, 97, 101, 103, 107, 109, 113, 127, 131, 137, 139, 149, 151, 157, 163, 167, 173, 179, 181, 191, 193, 197, 199, 211, 223, 227, 229, 233, 239, 241, 251, 257, 263, 269, 271, 277, 281, 283, 293, 307, 311, 313, 317, 331, 337, 341, 347, 349, 353, 359, 367, 373, 379, 383, 389, 397, 401, 409, 419, 421, 431, 433, 439, 443, 449, 457, 461, 463, 467, 479, 487, 491, 499, 503, 509, 521, 523, 541, 547, 557, 561, 563, 569, 571, 577, 587, 593, 599, 601, 607, 613, 617, 619, 631, 641, 643, 645, 647, 653, 659, 661, 673, 677, 683, 691, 701, 709, 719, 727, 733, 739, 743, 751, 757, 761, 769, 773, 787, 797, 809, 811, 821, 823, 827, 829, 839, 853, 857, 859, 863, 877, 881, 883, 887, 907, 911, 919, 929, 937, 941, 947, 953, 967, 971, 977, 983, 991, 997, 1009, 1013, 1019, 1021, 1031, 1033, 1039, 1049, 1051, 1061, 1063, 1069, 1087, 1091, 1093, 1097, 1103, 1105]"
      ]
     },
     "execution_count": 33,
     "metadata": {},
     "output_type": "execute_result"
    }
   ],
   "source": [
    "nPrimeLike(188)"
   ]
  },
  {
   "cell_type": "markdown",
   "metadata": {},
   "source": [
    "<br>\n",
    "__Summary__\n",
    "<br>\n",
    "<br>\n",
    "In conclusion, prime numbers are very interesting and worth exploring. There is an infinite amount of prime numbers and this section only covered a small portion of them. There are multiple theorums and methods to finding out if a number is prime, prime-like, etc. The simplest method is trial division, a slow, but effective method of checking a numbers primality. Additionally, there is congruence relation and Fermat's Little Theorum which decifer prime-like numbers, but becomes less reliable as $n$ grows infinitely large. That's where Carmichael numbers appear. The Carmichael numbers are numbers that satisfy congruence relation, but are actually composite. It is important to know the existence of such numbers in order to strengthen future coding."
   ]
  },
  {
   "cell_type": "markdown",
   "metadata": {},
   "source": [
    "Sources:\n",
    "<br>\n",
    "https://en.wikipedia.org/wiki/Prime_number\n",
    "<br>\n",
    "https://en.wikipedia.org/wiki/Congruence_relation\n",
    "<br>\n",
    "https://en.wikipedia.org/wiki/Fermat%27s_little_theorem\n",
    "<br>\n",
    "https://en.wikipedia.org/wiki/Carmichael_number"
   ]
  }
 ],
 "metadata": {
  "kernelspec": {
   "display_name": "Python 3",
   "language": "python",
   "name": "python3"
  },
  "language_info": {
   "codemirror_mode": {
    "name": "ipython",
    "version": 3
   },
   "file_extension": ".py",
   "mimetype": "text/x-python",
   "name": "python",
   "nbconvert_exporter": "python",
   "pygments_lexer": "ipython3",
   "version": "3.6.5"
  }
 },
 "nbformat": 4,
 "nbformat_minor": 2
}
